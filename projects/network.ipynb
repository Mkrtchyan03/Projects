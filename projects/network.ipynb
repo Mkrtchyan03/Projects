{
 "cells": [
  {
   "cell_type": "code",
   "execution_count": null,
   "metadata": {
    "collapsed": true
   },
   "outputs": [],
   "source": [
    "import tensorflow as tf\n",
    "import numpy as np\n",
    "from sklearn.datasets import make_regression\n",
    "from sklearn.model_selection import train_test_split"
   ]
  },
  {
   "cell_type": "code",
   "execution_count": null,
   "outputs": [],
   "source": [
    "class DenseLayer:\n",
    "    def __init__(self, input_size, output_size, activatoin=None):\n",
    "        self.weights = tf.Variable(\n",
    "            tf.random.normal([input_size, output_size]))\n",
    "        self.bias = tf.Variable(\n",
    "            tf.random.normal([1, output_size]))\n",
    "        self.activation = activatoin\n",
    "        self.m_w, self.v_w = tf.Variable(0.0), tf.Variable(0.0)\n",
    "        self.m_b, self.v_b = tf.Variable(0.0), tf.Variable(0.0)\n",
    "\n",
    "\n",
    "    def sigmoid(self, data):\n",
    "        return tf.divide(1, (tf.add(1, np.exp(-data))))\n",
    "\n",
    "    def sigmoid_der(self, data):\n",
    "        return tf.multiply(self.sigmoid(data), (1-self.sigmoid(data)))\n",
    "\n",
    "    def relu(self, data):\n",
    "        data[np.where(data <= 0)] = 0\n",
    "\n",
    "    def relu_der(self, data):\n",
    "        return np.where(data > 0 , 1 , 0)\n",
    "\n",
    "    def adam(self, grd_w, grd_b, t, eta=0.01, betta1=0.9, betta2=0.999, eps=1e-8):\n",
    "        self.m_w = tf.add(tf.multiply(self.m_w,betta1), tf.multiply(1-betta1, grd_w))\n",
    "        self.m_b = tf.add(tf.multiply(self.m_b, betta1), tf.multiply(1-betta1, grd_b))\n",
    "        self.v_w = tf.add(tf.multiply(self.v_w, betta2), tf.multiply(1-betta2, tf.multiply(grd_w, grd_w)))\n",
    "        self.v_b = tf.add(tf.multiply(self.v_b, betta2, tf.multiply(1-betta2, tf.multiply(grd_b, grd_b))))\n",
    "\n",
    "        new_m_w = tf.divide(self.m_w, 1-tf.square(betta1, t))\n",
    "        new_m_b = tf.divide(self.m_b, 1-tf.square(betta1, t))\n",
    "        new_v_w = tf.divide(self.v_w, 1-tf.square(betta2, t))\n",
    "        new_v_b = tf.divide(self.v_b, 1-tf.square(betta2, t))\n",
    "\n",
    "        self.weights -= tf.multiply(eta, tf.divide(new_m_w, tf.sqrt(new_v_w+eps)))\n",
    "        self.bias -= tf.multiply(eta, tf.divide(new_m_b, tf.sqrt(new_v_b+eps)))\n",
    "\n",
    "    def forward(self, input_data):\n",
    "        self.inputs = input_data\n",
    "\n",
    "        self.output = tf.matmul(self.inputs, self.weights) + self.bias\n",
    "\n",
    "        if self.activation == 'sigmoid':\n",
    "            self.output = self.sigmoid(self.output)\n",
    "        if self.activation == 'relu':\n",
    "            self.output = self.relu(self.output)\n",
    "\n",
    "        return self.output\n",
    "\n",
    "    def backward(self, error, lr, i):\n",
    "        if self.activation == 'sigmoid':\n",
    "            error = self.sigmoid_der(error)\n",
    "\n",
    "        if self.activation == 'relu':\n",
    "            error = self.relu_der(error)\n",
    "\n",
    "        grad_weights = tf.multiply(self.inputs, error)\n",
    "        grad_input = tf.multiply(error, tf.transpose(self.weights))\n",
    "\n",
    "        self.adam(grad_weights, error.sum(axis=0), i)\n",
    "        return grad_input"
   ],
   "metadata": {
    "collapsed": false
   }
  },
  {
   "cell_type": "code",
   "execution_count": null,
   "outputs": [],
   "source": [
    "class DenseNetwork:\n",
    "    def __init__(self):\n",
    "        self.layers = []\n",
    "\n",
    "    def add(self, layer):\n",
    "        self.layers.append(layer)\n",
    "\n",
    "    def loss(self, y_true, y_pred):\n",
    "        return tf.reduce_mean(tf.square(y_true-y_pred))\n",
    "\n",
    "    def call(self, X_train, y_train, lr, epoch):\n",
    "        n_sample = X_train.shape[0]\n",
    "        for i in range(1, epoch+1):\n",
    "            input = tf.Variable(X_train, dtype=tf.float64)\n",
    "            err = 0\n",
    "            for layer in self.layers:\n",
    "                input = layer.forward(input)\n",
    "\n",
    "            err += self.loss(y_train, input)\n",
    "            error = 2*(input.flatten() - y_train) / len(y_train)\n",
    "            for layer in reversed(self.layers):\n",
    "                error = layer.backward(error, lr, i)\n",
    "\n",
    "            err /= n_sample\n",
    "            print(f\"epoch {i}, Loss {err}\")"
   ],
   "metadata": {
    "collapsed": false
   }
  }
 ],
 "metadata": {
  "kernelspec": {
   "display_name": "Python 3",
   "language": "python",
   "name": "python3"
  },
  "language_info": {
   "codemirror_mode": {
    "name": "ipython",
    "version": 2
   },
   "file_extension": ".py",
   "mimetype": "text/x-python",
   "name": "python",
   "nbconvert_exporter": "python",
   "pygments_lexer": "ipython2",
   "version": "2.7.6"
  }
 },
 "nbformat": 4,
 "nbformat_minor": 0
}
