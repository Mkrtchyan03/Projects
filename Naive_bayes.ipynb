{
 "cells": [
  {
   "cell_type": "markdown",
   "metadata": {},
   "source": [
    "# Homework"
   ]
  },
  {
   "cell_type": "code",
   "execution_count": 2,
   "metadata": {},
   "outputs": [],
   "source": [
    "# Please implement 2 classes below"
   ]
  },
  {
   "cell_type": "code",
   "execution_count": 1,
   "metadata": {},
   "outputs": [],
   "source": [
    "class NaiveBayes:\n",
    "    def __init__(self):\n",
    "        \n",
    "        self.n_classes = None\n",
    "        self.means = None\n",
    "        self.variance = None\n",
    "    \n",
    "    def fit(self, X, y):\n",
    "        \n",
    "        self.y = np.array(y)\n",
    "        \n",
    "        self.n_classes = np.unique(y)\n",
    "        self.mean = np.zeros((len(self.n_classes), X.shape[1]))\n",
    "        self.var = np.zeros((len(self.n_classes), X.shape[1]))\n",
    "        self.priors = np.zeros(len(self.n_classes))\n",
    "        \n",
    "        for i in self.n_classes:\n",
    "            x_c = X[y == i]\n",
    "            self.mean[i,:] = np.mean(x_c, axis = 0)\n",
    "            self.var[i,:] = np.var(x_c, axis = 0)\n",
    "            self.priors[i] = x_c.shape[0] / X.shape[0]\n",
    "    \n",
    "    def cond_prob(self, n, x):\n",
    "        mean = self.mean[n]\n",
    "        var = self.var[n]\n",
    "        n = np.exp(- (x-mean)**2 / (2*var))\n",
    "        d = np.sqrt(2*np.pi*var)\n",
    "        return n / d\n",
    "        \n",
    "    def predict(self, X):\n",
    "        y_pred = []\n",
    "        for x in X:\n",
    "            post = []\n",
    "            for ind, c in enumerate(self.n_classes):\n",
    "                prior = np.log(self.priors[ind])\n",
    "                log_likelihood = np.sum(np.log(self.cond_prob(ind, x)))\n",
    "                prob = prior + log_likelihood\n",
    "                post.append(prob)\n",
    "            y_pred.append(self.n_classes[np.argmax(post)])\n",
    "            \n",
    "        return np.array(y_pred)"
   ]
  },
  {
   "cell_type": "code",
   "execution_count": 2,
   "metadata": {},
   "outputs": [],
   "source": [
    "class LinearDiscriminantAnalysis:\n",
    "    \n",
    "    def __init__(self):\n",
    "        \n",
    "        self.mean = None\n",
    "        self.classes = None\n",
    "        self.cov = None\n",
    "        \n",
    "    def fit(self, X, y):\n",
    "        \n",
    "        \n",
    "        self.y = np.array(y)\n",
    "        self.classes = np.unique(y)\n",
    "        self.priors = np.zeros(len(self.classes))\n",
    "        self.mean = np.zeros((len(self.classes), X.shape[1]))\n",
    "        self.cov = np.cov(X[y==self.classes[0]], rowvar = False)\n",
    "    \n",
    "        \n",
    "        for k in self.classes:\n",
    "            arr = X[y == k]\n",
    "            self.priors[k] = arr.shape[0] / X.shape[0]\n",
    "            self.mean[k,:] = np.mean(arr, axis = 0)\n",
    "        \n",
    "    def predict(self, X):\n",
    "        y_pred = []\n",
    "        for x in X:\n",
    "            x = x.reshape(-1, 1)\n",
    "            post = []\n",
    "            for ind, i  in enumerate(self.classes):\n",
    "                delta = np.dot(np.dot(x.T,np.linalg.inv(self.cov)),self.mean[ind])-(1/2)*np.dot(np.dot(self.mean[ind], np.linalg.inv(self.cov)), self.mean[ind]) + np.log(self.priors[ind])\n",
    "                post.append(delta)\n",
    "                \n",
    "            y_pred.append(self.classes[np.argmax(post)])    \n",
    "        \n",
    "        return np.array(y_pred)     \n",
    "        "
   ]
  }
 ],
 "metadata": {
  "colab": {
   "name": "NaiveBayes.ipynb",
   "provenance": []
  },
  "kernelspec": {
   "display_name": "Python 3 (ipykernel)",
   "language": "python",
   "name": "python3"
  },
  "language_info": {
   "codemirror_mode": {
    "name": "ipython",
    "version": 3
   },
   "file_extension": ".py",
   "mimetype": "text/x-python",
   "name": "python",
   "nbconvert_exporter": "python",
   "pygments_lexer": "ipython3",
   "version": "3.9.13"
  }
 },
 "nbformat": 4,
 "nbformat_minor": 1
}
